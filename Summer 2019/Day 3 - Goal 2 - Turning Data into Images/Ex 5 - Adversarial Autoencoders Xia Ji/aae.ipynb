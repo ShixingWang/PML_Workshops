{
  "nbformat": 4,
  "nbformat_minor": 0,
  "metadata": {
    "colab": {
      "name": "aae.ipynb",
      "version": "0.3.2",
      "provenance": [],
      "collapsed_sections": [],
      "include_colab_link": true
    },
    "kernelspec": {
      "name": "python3",
      "display_name": "Python 3"
    }
  },
  "cells": [
    {
      "cell_type": "markdown",
      "metadata": {
        "id": "view-in-github",
        "colab_type": "text"
      },
      "source": [
        "<a href=\"https://colab.research.google.com/github/jojker/PML_Workshops/blob/master/Summer%202019/Day%203%20-%20Goal%202%20-%20Turning%20Data%20into%20Images/Ex%205%20-%20Adversarial%20Autoencoders%20Xia%20Ji/aae.ipynb\" target=\"_parent\"><img src=\"https://colab.research.google.com/assets/colab-badge.svg\" alt=\"Open In Colab\"/></a>"
      ]
    },
    {
      "cell_type": "markdown",
      "metadata": {
        "id": "30Bd2BSkuKBM",
        "colab_type": "text"
      },
      "source": [
        "#Link to Slides about generative networks\n",
        "https://github.com/jojker/PML_Workshops/blob/master/Summer%202019/Day%203%20-%20Goal%202%20-%20Turning%20Data%20into%20Images/Ex%205%20-%20Adversarial%20Autoencoders%20Xia%20Ji/Generative%20models.pdf"
      ]
    },
    {
      "cell_type": "markdown",
      "metadata": {
        "id": "cbChukGm7kmB",
        "colab_type": "text"
      },
      "source": [
        "# Download code for Adversarial Autoencoder (AAE) from the github repository.\n"
      ]
    },
    {
      "cell_type": "code",
      "metadata": {
        "id": "7Am8Moilxo3_",
        "colab_type": "code",
        "outputId": "174d81b3-e9c9-4b69-fc1d-c88e4ea23689",
        "colab": {
          "base_uri": "https://localhost:8080/",
          "height": 139
        }
      },
      "source": [
        "!git clone https://github.com/tinaxia2016/adversarial-autoencoders\n",
        "!pip install --user --upgrade tensorflow-probability"
      ],
      "execution_count": 0,
      "outputs": [
        {
          "output_type": "stream",
          "text": [
            "Cloning into 'adversarial-autoencoders'...\n",
            "remote: Enumerating objects: 56, done.\u001b[K\n",
            "remote: Counting objects: 100% (56/56), done.\u001b[K\n",
            "remote: Compressing objects: 100% (54/54), done.\u001b[K\n",
            "remote: Total 408 (delta 28), reused 0 (delta 0), pack-reused 352\u001b[K\n",
            "Receiving objects: 100% (408/408), 13.74 MiB | 22.16 MiB/s, done.\n",
            "Resolving deltas: 100% (204/204), done.\n"
          ],
          "name": "stdout"
        }
      ]
    },
    {
      "cell_type": "markdown",
      "metadata": {
        "id": "9NKO533f79rw",
        "colab_type": "text"
      },
      "source": [
        "# Change the directory to the folder with the main code."
      ]
    },
    {
      "cell_type": "code",
      "metadata": {
        "id": "B6TeDGxS2qKw",
        "colab_type": "code",
        "outputId": "9bf91a8f-2ebb-471f-d7dd-afcd160f519f",
        "colab": {
          "base_uri": "https://localhost:8080/",
          "height": 35
        }
      },
      "source": [
        "cd adversarial-autoencoders/experiment/"
      ],
      "execution_count": 0,
      "outputs": [
        {
          "output_type": "stream",
          "text": [
            "/content/adversarial-autoencoders/experiment\n"
          ],
          "name": "stdout"
        }
      ]
    },
    {
      "cell_type": "markdown",
      "metadata": {
        "id": "QgSTfu-P8ODN",
        "colab_type": "text"
      },
      "source": [
        "# Train AAE to map hand-written digit image to 2d Gaussian distributed datapoint. \n",
        "\n",
        "##*(check your training results in './mnist/out/aae' afterwards)*"
      ]
    },
    {
      "cell_type": "code",
      "metadata": {
        "id": "QoysQJmbx-Y2",
        "colab_type": "code",
        "outputId": "44ee197c-80b6-4257-d100-f9e7540a501f",
        "colab": {
          "base_uri": "https://localhost:8080/",
          "height": 1000
        }
      },
      "source": [
        "# Training. Summary, randomly sampled images and latent space during training will be saved in SAVE_PATH in aae_mnist.py (default: './mnist/out/aae').\n",
        "!python aae_mnist.py --train --ncode 2 --dist_type gaussian"
      ],
      "execution_count": 0,
      "outputs": [
        {
          "output_type": "stream",
          "text": [
            "WARNING: Logging before flag parsing goes to stderr.\n",
            "W0712 02:19:42.200003 140262668728192 deprecation_wrapper.py:119] From ../src/models/modules.py:58: The name tf.keras.initializers.he_normal is deprecated. Please use tf.compat.v1.keras.initializers.he_normal instead.\n",
            "\n",
            "W0712 02:19:44.624342 140262668728192 deprecation_wrapper.py:119] From ../src/models/aae.py:59: The name tf.placeholder is deprecated. Please use tf.compat.v1.placeholder instead.\n",
            "\n",
            "W0712 02:19:44.641126 140262668728192 deprecation_wrapper.py:119] From ../src/models/aae.py:114: The name tf.variable_scope is deprecated. Please use tf.compat.v1.variable_scope instead.\n",
            "\n",
            "W0712 02:19:44.641400 140262668728192 deprecation_wrapper.py:119] From ../src/models/aae.py:114: The name tf.AUTO_REUSE is deprecated. Please use tf.compat.v1.AUTO_REUSE instead.\n",
            "\n",
            "W0712 02:19:44.651082 140262668728192 deprecation_wrapper.py:119] From ../src/models/layers.py:91: The name tf.get_variable is deprecated. Please use tf.compat.v1.get_variable instead.\n",
            "\n",
            "W0712 02:19:44.665713 140262668728192 deprecation_wrapper.py:119] From ../src/models/layers.py:104: The name tf.nn.xw_plus_b is deprecated. Please use tf.compat.v1.nn.xw_plus_b instead.\n",
            "\n",
            "W0712 02:19:44.668539 140262668728192 deprecation.py:506] From ../src/models/layers.py:313: calling dropout (from tensorflow.python.ops.nn_ops) with keep_prob is deprecated and will be removed in a future version.\n",
            "Instructions for updating:\n",
            "Please use `rate` instead of `keep_prob`. Rate should be set to `rate = 1 - keep_prob`.\n",
            "W0712 02:19:44.729727 140262668728192 deprecation_wrapper.py:119] From ../src/models/layers.py:49: The name tf.log is deprecated. Please use tf.math.log instead.\n",
            "\n",
            "W0712 02:19:44.850162 140262668728192 deprecation.py:506] From /usr/local/lib/python3.6/dist-packages/tensorflow/python/ops/init_ops.py:1251: calling VarianceScaling.__init__ (from tensorflow.python.ops.init_ops) with dtype is deprecated and will be removed in a future version.\n",
            "Instructions for updating:\n",
            "Call initializer instance with the dtype argument instead of passing it to the constructor\n",
            "W0712 02:19:45.048206 140262668728192 deprecation_wrapper.py:119] From ../src/models/aae.py:322: The name tf.train.AdamOptimizer is deprecated. Please use tf.compat.v1.train.AdamOptimizer instead.\n",
            "\n",
            "W0712 02:19:45.404299 140262668728192 deprecation_wrapper.py:119] From ../src/models/aae.py:274: The name tf.summary.image is deprecated. Please use tf.compat.v1.summary.image instead.\n",
            "\n",
            "W0712 02:19:45.408768 140262668728192 deprecation_wrapper.py:119] From ../src/models/aae.py:287: The name tf.summary.histogram is deprecated. Please use tf.compat.v1.summary.histogram instead.\n",
            "\n",
            "W0712 02:19:45.411365 140262668728192 deprecation_wrapper.py:119] From ../src/models/aae.py:303: The name tf.summary.merge_all is deprecated. Please use tf.compat.v1.summary.merge_all instead.\n",
            "\n",
            "W0712 02:19:45.419630 140262668728192 deprecation.py:323] From /usr/local/lib/python3.6/dist-packages/tensorflow/python/ops/nn_impl.py:180: add_dispatch_support.<locals>.wrapper (from tensorflow.python.ops.array_ops) is deprecated and will be removed in a future version.\n",
            "Instructions for updating:\n",
            "Use tf.where in 2.0, which has the same broadcast rule as np.where\n",
            "2019-07-12 02:19:45.973676: I tensorflow/core/platform/profile_utils/cpu_utils.cc:94] CPU Frequency: 2300000000 Hz\n",
            "2019-07-12 02:19:45.973948: I tensorflow/compiler/xla/service/service.cc:168] XLA service 0x2077480 executing computations on platform Host. Devices:\n",
            "2019-07-12 02:19:45.973986: I tensorflow/compiler/xla/service/service.cc:175]   StreamExecutor device (0): <undefined>, <undefined>\n",
            "W0712 02:19:45.977155 140262668728192 deprecation_wrapper.py:119] From aae_mnist.py:265: The name tf.summary.FileWriter is deprecated. Please use tf.compat.v1.summary.FileWriter instead.\n",
            "\n",
            "W0712 02:19:45.978060 140262668728192 deprecation_wrapper.py:119] From aae_mnist.py:266: The name tf.train.Saver is deprecated. Please use tf.compat.v1.train.Saver instead.\n",
            "\n",
            "2019-07-12 02:19:46.396022: W tensorflow/compiler/jit/mark_for_compilation_pass.cc:1412] (One-time warning): Not using XLA:CPU for cluster because envvar TF_XLA_FLAGS=--tf_xla_cpu_global_jit was not set.  If you want XLA:CPU, either set that envvar, or use experimental_jit_scope to enable XLA:CPU.  To confirm that XLA is active, pass --vmodule=xla_compilation_cache=1 (as a proper command-line flag, not via TF_XLA_FLAGS) or set the envvar XLA_FLAGS=--xla_hlo_profile.\n",
            "[step: 100] loss: 154.3818 d_loss: 2.1158 g_loss: 3.2560\n",
            "[step: 200] loss: 125.7576 d_loss: 1.6987 g_loss: 2.2174\n",
            "[step: 300] loss: 115.8680 d_loss: 1.5726 g_loss: 1.8564\n",
            "==== epoch: 0, lr:0.0002 ====\n",
            "[step: 390] loss: 111.1163 d_loss: 1.5177 g_loss: 1.6662\n",
            "[Valid]: [step: 390] loss: 87.8320\n",
            "W0712 02:20:58.594343 140262668728192 util.py:61] Lossy conversion from float64 to uint8. Range [-1.1920928955078125e-07, 0.9944370985031128]. Convert image to uint8 prior to saving to suppress this warning.\n",
            "[step: 490] loss: 90.6033 d_loss: 1.2991 g_loss: 0.9687\n",
            "[step: 590] loss: 89.1047 d_loss: 1.2902 g_loss: 0.9722\n",
            "[step: 690] loss: 87.3876 d_loss: 1.3060 g_loss: 0.9248\n",
            "==== epoch: 1, lr:0.0002 ====\n",
            "[step: 780] loss: 86.2683 d_loss: 1.3187 g_loss: 0.9026\n",
            "[Valid]: [step: 780] loss: 79.5786\n",
            "[step: 880] loss: 82.2941 d_loss: 1.3489 g_loss: 0.9026\n",
            "[step: 980] loss: 81.3020 d_loss: 1.3497 g_loss: 0.8770\n",
            "[step: 1080] loss: 80.8322 d_loss: 1.3583 g_loss: 0.8797\n",
            "==== epoch: 2, lr:0.0002 ====\n",
            "[step: 1170] loss: 81.5150 d_loss: 1.3632 g_loss: 0.8975\n",
            "[Valid]: [step: 1170] loss: 83.8934\n",
            "[step: 1270] loss: 80.9626 d_loss: 1.3175 g_loss: 0.9945\n",
            "[step: 1370] loss: 81.5207 d_loss: 1.3218 g_loss: 0.9960\n",
            "Traceback (most recent call last):\n",
            "  File \"aae_mnist.py\", line 356, in <module>\n",
            "    train()\n",
            "  File \"aae_mnist.py\", line 271, in train\n",
            "    trainer.train_z_gan_epoch(sess, ae_dropout=FLAGS.dropout, summary_writer=writer)\n",
            "  File \"../src/helper/trainer.py\", line 323, in train_z_gan_epoch\n",
            "    self._t_model.keep_prob: 1.})\n",
            "  File \"/usr/local/lib/python3.6/dist-packages/tensorflow/python/client/session.py\", line 950, in run\n",
            "    run_metadata_ptr)\n",
            "  File \"/usr/local/lib/python3.6/dist-packages/tensorflow/python/client/session.py\", line 1173, in _run\n",
            "    feed_dict_tensor, options, run_metadata)\n",
            "  File \"/usr/local/lib/python3.6/dist-packages/tensorflow/python/client/session.py\", line 1350, in _do_run\n",
            "    run_metadata)\n",
            "  File \"/usr/local/lib/python3.6/dist-packages/tensorflow/python/client/session.py\", line 1356, in _do_call\n",
            "    return fn(*args)\n",
            "  File \"/usr/local/lib/python3.6/dist-packages/tensorflow/python/client/session.py\", line 1341, in _run_fn\n",
            "    options, feed_dict, fetch_list, target_list, run_metadata)\n",
            "  File \"/usr/local/lib/python3.6/dist-packages/tensorflow/python/client/session.py\", line 1429, in _call_tf_sessionrun\n",
            "    run_metadata)\n",
            "KeyboardInterrupt\n"
          ],
          "name": "stdout"
        }
      ]
    },
    {
      "cell_type": "markdown",
      "metadata": {
        "id": "QqKzDEzz_cB8",
        "colab_type": "text"
      },
      "source": [
        "# Things to explore: try other training options listed in readme.md from https://github.com/conan7882/adversarial-autoencoders."
      ]
    },
    {
      "cell_type": "code",
      "metadata": {
        "id": "Rbs8IeeJ_a2J",
        "colab_type": "code",
        "colab": {}
      },
      "source": [
        ""
      ],
      "execution_count": 0,
      "outputs": []
    },
    {
      "cell_type": "code",
      "metadata": {
        "id": "8e3digzG0yl9",
        "colab_type": "code",
        "colab": {}
      },
      "source": [
        ""
      ],
      "execution_count": 0,
      "outputs": []
    }
  ]
}