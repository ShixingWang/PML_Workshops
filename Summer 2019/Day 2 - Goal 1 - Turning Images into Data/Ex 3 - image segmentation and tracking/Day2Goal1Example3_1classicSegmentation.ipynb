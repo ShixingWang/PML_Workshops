{
 "cells": [
  {
   "cell_type": "markdown",
   "metadata": {},
   "source": [
    " # Day 2 Exercise 3 - image segmentation and tracking: the classic way\n",
    " ## Basic Definitions\n",
    " ### Superpixels\n",
    " When we group pixels based on color, texture, or other low level primitives, we call these perceptual groups superpixels\n",
    " ![superpixel](Data/superpixel.gif)\n",
    "\n",
    " ### Semantic Segmentation\n",
    " In Semantic Segmentation the goal is to assign a label (car, building, person, road, sidewalk, sky, trees etc.) to __every pixel__ in the image.\n",
    " ![semantic](Data/semantic.jpg)\n",
    "\n",
    " ### Instance Segmentation\n",
    " Instance Segmentation is a concept closely related to Object Detection. However, unlike Object Detection the output is a mask (or contour) containing the object instead of a bounding box. Unlike Semantic Segmentation, we do not label every pixel in the image; we are interested only in finding the boundaries of specific objects\n",
    " ![instance](Data/instance.jpg)\n",
    "\n",
    " Panoptic segmentation is the combination of Semantic segmentation and Instance Segmentation. Every pixel is assigned a class (e.g. person), but if there are multiple instances of a class, we know which pixel belongs to which instance of the class.\n",
    " ![panoptic](Data/panoptic.jpg)"
   ]
  },
  {
   "cell_type": "markdown",
   "metadata": {},
   "source": [
    " ## Example: Classic Segmentation with `scikit-image`"
   ]
  },
  {
   "cell_type": "markdown",
   "metadata": {},
   "source": [
    " ### Basic `scikit-image` i/o\n",
    " Importing a GrayScale Image from the skimage library"
   ]
  },
  {
   "cell_type": "code",
   "execution_count": 0,
   "metadata": {},
   "outputs": [],
   "source": [
    "from skimage import data\n",
    "import numpy as np\n",
    "import matplotlib.pyplot as plt\n",
    "image = data.binary_blobs()\n",
    "plt.imshow(image, cmap='gray')"
   ]
  },
  {
   "cell_type": "markdown",
   "metadata": {},
   "source": [
    " Importing a Colored Image from the skimage library"
   ]
  },
  {
   "cell_type": "code",
   "execution_count": 0,
   "metadata": {},
   "outputs": [],
   "source": [
    "from skimage import data\n",
    "import numpy as np\n",
    "import matplotlib.pyplot as plt\n",
    "image = data.astronaut()\n",
    "plt.imshow(image)"
   ]
  },
  {
   "cell_type": "markdown",
   "metadata": {},
   "source": [
    " Importing an image from an external source"
   ]
  },
  {
   "cell_type": "code",
   "execution_count": 0,
   "metadata": {},
   "outputs": [],
   "source": [
    "# The I/O module is used for importing the image\n",
    "from skimage import data\n",
    "import numpy as np\n",
    "import matplotlib.pyplot as plt\n",
    "from skimage import io\n",
    "image = io.imread('skimage_logo.png')\n",
    "plt.imshow(image)\n"
   ]
  },
  {
   "cell_type": "markdown",
   "metadata": {},
   "source": [
    " ### Segmentation: preparation\n"
   ]
  },
  {
   "cell_type": "code",
   "execution_count": 0,
   "metadata": {},
   "outputs": [],
   "source": [
    "# basic imports\n",
    "import numpy as np\n",
    "import matplotlib.pyplot as plt\n",
    "import skimage.data as data\n",
    "import skimage.segmentation as seg\n",
    "import skimage.filters as filters\n",
    "import skimage.draw as draw\n",
    "import skimage.color as color\n",
    "# A simple function to plot the images\n",
    "def image_show(image, nrows=1, ncols=1, cmap='gray'):\n",
    "    fig, ax = plt.subplots(nrows=nrows, ncols=ncols, figsize=(14, 14))\n",
    "    ax.imshow(image, cmap='gray')\n",
    "    ax.axis('off')\n",
    "    return fig, ax"
   ]
  },
  {
   "cell_type": "markdown",
   "metadata": {},
   "source": [
    " ### Superivised Thresholding\n",
    " read the image we want to segment"
   ]
  },
  {
   "cell_type": "code",
   "execution_count": 0,
   "metadata": {},
   "outputs": [],
   "source": [
    "text = data.page()\n",
    "image_show(text)"
   ]
  },
  {
   "cell_type": "markdown",
   "metadata": {},
   "source": [
    "For this segmentation task, a manual method would be to accept pixels darker than a given value (threshold) as objects, and the rest as background. Now to help us in picking that value, we will use a Histogram."
   ]
  },
  {
   "cell_type": "code",
   "execution_count": null,
   "metadata": {},
   "outputs": [],
   "source": [
    "fig, ax = plt.subplots(1, 1)\n",
    "ax.hist(text.ravel(), bins=32, range=[0, 256])\n",
    "ax.set_xlim(0, 256);"
   ]
  },
  {
   "cell_type": "code",
   "execution_count": null,
   "metadata": {},
   "outputs": [],
   "source": [
    "text_segmented = text > 50 # (value concluded from histogram i.e 50,70,120 )\n",
    "image_show(text_segmented)"
   ]
  },
  {
   "cell_type": "markdown",
   "metadata": {},
   "source": [
    "### Unsupervised Thresholding\n"
   ]
  },
  {
   "cell_type": "code",
   "execution_count": null,
   "metadata": {},
   "outputs": [],
   "source": [
    "text_threshold = filters.threshold_  # Hit tab with the cursor after the underscore to get all the methods.\n",
    "image_show(text < text_threshold);"
   ]
  },
  {
   "cell_type": "markdown",
   "metadata": {},
   "source": [
    "### Supervised Segmentation\n",
    "\n",
    "Thresholding is a very basic segmentation process and will not work properly in a high-contrast image for which we will be needing more advanced tools."
   ]
  },
  {
   "cell_type": "code",
   "execution_count": null,
   "metadata": {},
   "outputs": [],
   "source": [
    "# import the image\n",
    "from skimage import io\n",
    "image = io.imread('girl.jpg') \n",
    "plt.imshow(image);"
   ]
  },
  {
   "cell_type": "code",
   "execution_count": null,
   "metadata": {},
   "outputs": [],
   "source": [
    "#Before doing any segmentation on an image, it is a good idea to de-noise it using some filters.\n",
    "image_gray = color.rgb2gray(image) \n",
    "image_show(image_gray);"
   ]
  },
  {
   "cell_type": "markdown",
   "metadata": {},
   "source": [
    "### Supervised Segmentation: Active contour segmentation"
   ]
  },
  {
   "cell_type": "markdown",
   "metadata": {},
   "source": [
    "Active Contour segmentation is initialized using a user-defined contour or line, around the area of interest and this contour then slowly contracts and is attracted or repelled from light and edges."
   ]
  },
  {
   "cell_type": "code",
   "execution_count": null,
   "metadata": {},
   "outputs": [],
   "source": [
    "# draw a circle around the person’s head to initialize the snake.\n",
    "def circle_points(resolution, center, radius):\n",
    "    \"\"\"\n",
    "    Generate points which define a circle on an image.Centre refers to the centre of the circle\n",
    "    \"\"\"   \n",
    "    radians = np.linspace(0, 2*np.pi, resolution)\n",
    "    c = center[1] + radius*np.cos(radians)#polar co-ordinates\n",
    "    r = center[0] + radius*np.sin(radians)\n",
    "    \n",
    "    return np.array([c, r]).T\n",
    "\n",
    "# Exclude last point because a closed path should not have duplicate points\n",
    "points = circle_points(200, [80, 250], 80)[:-1]\n",
    "\n",
    "fig, ax = image_show(image)\n",
    "ax.plot(points[:, 0], points[:, 1], '--r', lw=3)\n",
    "\n",
    "snake = seg.active_contour(image_gray, points)\n",
    "fig, ax = image_show(image)\n",
    "ax.plot(points[:, 0], points[:, 1], '--r', lw=3)\n",
    "ax.plot(snake[:, 0], snake[:, 1], '-b', lw=3);\n",
    "\n",
    "# tweak the parameters called alpha and beta. Higher values of alpha will make this snake contract faster while beta makes the snake smoother.\n",
    "\n",
    "snake = seg.active_contour(image_gray, points,alpha=0.06,beta=0.3)\n",
    "fig, ax = image_show(image)\n",
    "ax.plot(points[:, 0], points[:, 1], '--r', lw=3)\n",
    "ax.plot(snake[:, 0], snake[:, 1], '-b', lw=3);"
   ]
  },
  {
   "cell_type": "markdown",
   "metadata": {},
   "source": [
    "### Supervised Segmentation: random walker segmentation\n",
    "\n",
    "Further reading: [this link](https://ieeexplore.ieee.org/document/1704833?source=post_page).\n",
    "\n",
    "First we label part of the pixels in the image."
   ]
  },
  {
   "cell_type": "code",
   "execution_count": null,
   "metadata": {},
   "outputs": [],
   "source": [
    "image_labels = np.zeros(image_gray.shape, dtype=np.uint8)\n",
    "\n",
    "indices = draw.circle_perimeter(80, 250,20)#from here\n",
    "image_labels[indices] = 1\n",
    "image_labels[points[:, 1].astype(np.int), points[:, 0].astype(np.int)] = 2\n",
    "image_show(image_labels);"
   ]
  },
  {
   "cell_type": "code",
   "execution_count": null,
   "metadata": {},
   "outputs": [],
   "source": [
    "# use Random Walker and see what happens.\n",
    "image_segmented = seg.random_walker(image_gray, image_labels)\n",
    "# Check our results\n",
    "fig, ax = image_show(image_gray)\n",
    "ax.imshow(image_segmented == 1, alpha=0.3);"
   ]
  },
  {
   "cell_type": "markdown",
   "metadata": {},
   "source": [
    "We can tune in the beta parameter until we get the desired results. After several attempts, a value of 3000 works reasonably well."
   ]
  },
  {
   "cell_type": "code",
   "execution_count": null,
   "metadata": {},
   "outputs": [],
   "source": [
    "image_segmented = seg.random_walker(image_gray, image_labels, beta = 3000)\n",
    "# Check our results\n",
    "fig, ax = image_show(image_gray)\n",
    "ax.imshow(image_segmented == 1, alpha=0.3);"
   ]
  },
  {
   "cell_type": "markdown",
   "metadata": {},
   "source": [
    "### Unsupervised segmentation: SLIC( Simple Linear Iterative Clustering)\n",
    "\n",
    "It uses machine-learning methods under the hood, but users do not necessarily realize that. More information can be found [here](https://ieeexplore.ieee.org/document/6205760?source=post_page)."
   ]
  },
  {
   "cell_type": "code",
   "execution_count": null,
   "metadata": {},
   "outputs": [],
   "source": [
    "image_slic = seg.slic(image,n_segments=155)\n",
    "\n",
    "# label2rgb replaces each discrete label with the average interior color\n",
    "image_show(color.label2rgb(image_slic, image, kind='avg'));\n"
   ]
  },
  {
   "cell_type": "markdown",
   "metadata": {},
   "source": [
    "### Unsupervised segmentation: Felzenszwalb\n",
    "\n",
    "This algorithm also uses a machine learning algorithm called minimum-spanning tree clustering under the hood. The Reference Paper can be accessed [here](http://cs.brown.edu/people/pfelzens/segment/?source=post_page)."
   ]
  },
  {
   "cell_type": "code",
   "execution_count": null,
   "metadata": {},
   "outputs": [],
   "source": [
    "image_felzenszwalb = seg.felzenszwalb(image) \n",
    "image_show(image_felzenszwalb);"
   ]
  },
  {
   "cell_type": "markdown",
   "metadata": {},
   "source": [
    "These are a lot of regions. Let’s calculate the number of unique regions and recolour them using the region average just as we did in the SLIC algorithm. "
   ]
  },
  {
   "cell_type": "code",
   "execution_count": null,
   "metadata": {},
   "outputs": [],
   "source": [
    "image_felzenszwalb_colored = color.label2rgb(image_felzenszwalb, image, kind='avg')\n",
    "image_show(image_felzenszwalb_colored)"
   ]
  }
 ],
 "metadata": {
  "file_extension": ".py",
  "kernelspec": {
   "display_name": "Python 3",
   "language": "python",
   "name": "python3"
  },
  "language_info": {
   "codemirror_mode": {
    "name": "ipython",
    "version": 3
   },
   "file_extension": ".py",
   "mimetype": "text/x-python",
   "name": "python",
   "nbconvert_exporter": "python",
   "pygments_lexer": "ipython3",
   "version": "3.7.3"
  },
  "mimetype": "text/x-python",
  "name": "python",
  "npconvert_exporter": "python",
  "pygments_lexer": "ipython3",
  "version": 3
 },
 "nbformat": 4,
 "nbformat_minor": 2
}
